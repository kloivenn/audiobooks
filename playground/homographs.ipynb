{
 "cells": [
  {
   "cell_type": "code",
   "execution_count": 17,
   "metadata": {},
   "outputs": [],
   "source": [
    "with open('../dicts/all_omographs_test.hmg', 'r') as f:\n",
    "    lines = list(filter(lambda el: not el[0:2] == '||', f.readlines()))\n",
    "\n",
    "lines = list(map(lambda el: '||' + el, lines))\n",
    "\n",
    "with open('../dicts/all_omographs_test_out.hmg', 'w') as out:\n",
    "    out.write(''.join(lines))"
   ]
  },
  {
   "cell_type": "code",
   "execution_count": 1,
   "metadata": {},
   "outputs": [],
   "source": [
    "import multiprocessing\n",
    "from joblib import Parallel, delayed\n",
    "import re\n",
    "import itertools\n",
    "import time\n",
    "import random\n",
    "\n",
    "num_cores = multiprocessing.cpu_count()"
   ]
  },
  {
   "cell_type": "code",
   "execution_count": 7,
   "metadata": {},
   "outputs": [],
   "source": [
    "with open(\"../dicts/all_omographs.hmg\", 'r') as f:\n",
    "    dictEntr = list(f.readlines())\n",
    "with open('../text/fanfics.txt', 'r') as f:\n",
    "    text = f.read().replace('\\xa0', ' ')\n",
    "text_unsigned = text.replace('!', '.').replace('?', '.').replace('…', '.').replace('–', '-').replace('—', '-').replace('. -', ', -').replace('ё', 'е').replace('Ё', 'Е')\n"
   ]
  },
  {
   "cell_type": "code",
   "execution_count": 14,
   "metadata": {},
   "outputs": [],
   "source": [
    "text = \"они попадают в организм…\\nпродолжить жизнь без тела носителя…\"\n",
    "text_unsigned = text.replace('!', '.').replace('?', '.').replace('…', '.').replace('–', '-').replace('—', '-').replace('. -', ', -').replace('ё', 'е').replace('Ё', 'Е')\n"
   ]
  },
  {
   "cell_type": "code",
   "execution_count": 15,
   "metadata": {},
   "outputs": [],
   "source": [
    "\n",
    "def getRegions(start, end):\n",
    "    before = text_unsigned[max((start - 301), text_unsigned.rfind('\\n', 0, start - 1) + 1):(start - 1)]\n",
    "    after = text_unsigned[end:min((end + 301), text_unsigned.find('\\n', end + 1))]\n",
    "    dotFirst = max(before.rfind('.'), 0)\n",
    "    dotLast = after.find('.')\n",
    "    if dotLast == -1:\n",
    "        dotLast = len(after)\n",
    "\n",
    "    while len(before) - dotFirst + dotLast < 40:\n",
    "        dotFirstNext = before.rfind('.', 0, dotFirst)\n",
    "        dotLastNext = after.find('.', dotLast + 1)\n",
    "        if dotLastNext == -1 and dotFirstNext == -1:\n",
    "            break\n",
    "        if dotLastNext == -1:\n",
    "            dotFirst = dotFirstNext\n",
    "        elif dotFirstNext == -1:\n",
    "            dotLast = dotLastNext\n",
    "        elif dotLastNext - dotLast > dotFirst - dotFirstNext:\n",
    "            dotFirst = dotFirstNext\n",
    "        else:\n",
    "            dotLast = dotLastNext\n",
    "            \n",
    "    return [before[dotFirst:], after[1:dotLast]]\n",
    "    \n",
    "    \n",
    "def findOccur(ind, line):\n",
    "    pos = []\n",
    "    if line[0:2] == '||':\n",
    "        word = line[2:line.find(\"=\")]\n",
    "        if text.find(word) != -1:\n",
    "            occur = re.finditer('\\\\b' + word + '\\\\b', text)\n",
    "            pos = list(map(lambda o: [ind, o.start(), getRegions(o.start(), o.end()) ], occur))\n",
    "    return pos\n",
    "\n",
    "if __name__ == \"__main__\":\n",
    "    allOcs = Parallel(n_jobs = num_cores)(delayed(findOccur)(ind, line) for ind, line in enumerate(dictEntr[:-1]))\n",
    "\n",
    "allOcs = list(itertools.chain.from_iterable(allOcs))"
   ]
  },
  {
   "cell_type": "code",
   "execution_count": 16,
   "metadata": {},
   "outputs": [
    {
     "data": {
      "text/plain": [
       "[[15147, 4, ['они', 'в организм']],\n",
       " [21573, 46, ['продолжить жизнь без', 'носителя']]]"
      ]
     },
     "execution_count": 16,
     "metadata": {},
     "output_type": "execute_result"
    }
   ],
   "source": [
    "allOcs"
   ]
  },
  {
   "cell_type": "code",
   "execution_count": 11,
   "metadata": {},
   "outputs": [
    {
     "ename": "NameError",
     "evalue": "name 'pr' is not defined",
     "output_type": "error",
     "traceback": [
      "\u001b[0;31m---------------------------------------------------------------------------\u001b[0m",
      "\u001b[0;31mNameError\u001b[0m                                 Traceback (most recent call last)",
      "\u001b[0;32m<ipython-input-11-affcf58bc8f5>\u001b[0m in \u001b[0;36m<module>\u001b[0;34m\u001b[0m\n\u001b[0;32m----> 1\u001b[0;31m \u001b[0mopts\u001b[0m \u001b[0;34m=\u001b[0m \u001b[0mdictEntr\u001b[0m\u001b[0;34m[\u001b[0m\u001b[0mpr\u001b[0m\u001b[0;34m[\u001b[0m\u001b[0;36m0\u001b[0m\u001b[0;34m]\u001b[0m\u001b[0;34m]\u001b[0m\u001b[0;34m[\u001b[0m\u001b[0;34m(\u001b[0m\u001b[0mdictEntr\u001b[0m\u001b[0;34m[\u001b[0m\u001b[0mpr\u001b[0m\u001b[0;34m[\u001b[0m\u001b[0;36m0\u001b[0m\u001b[0;34m]\u001b[0m\u001b[0;34m]\u001b[0m\u001b[0;34m.\u001b[0m\u001b[0mfind\u001b[0m\u001b[0;34m(\u001b[0m\u001b[0;34m'='\u001b[0m\u001b[0;34m)\u001b[0m \u001b[0;34m+\u001b[0m \u001b[0;36m1\u001b[0m\u001b[0;34m)\u001b[0m\u001b[0;34m:\u001b[0m\u001b[0;34m-\u001b[0m\u001b[0;36m1\u001b[0m\u001b[0;34m]\u001b[0m\u001b[0;34m.\u001b[0m\u001b[0msplit\u001b[0m\u001b[0;34m(\u001b[0m\u001b[0;34m','\u001b[0m\u001b[0;34m)\u001b[0m\u001b[0;34m\u001b[0m\u001b[0;34m\u001b[0m\u001b[0m\n\u001b[0m\u001b[1;32m      2\u001b[0m \u001b[0mscores\u001b[0m \u001b[0;34m=\u001b[0m \u001b[0;34m[\u001b[0m\u001b[0;36m0\u001b[0m\u001b[0;34m]\u001b[0m \u001b[0;34m*\u001b[0m \u001b[0mlen\u001b[0m\u001b[0;34m(\u001b[0m\u001b[0mopts\u001b[0m\u001b[0;34m)\u001b[0m\u001b[0;34m\u001b[0m\u001b[0;34m\u001b[0m\u001b[0m\n\u001b[1;32m      3\u001b[0m \u001b[0minsts\u001b[0m \u001b[0;34m=\u001b[0m \u001b[0;34m[\u001b[0m\u001b[0;36m0\u001b[0m\u001b[0;34m]\u001b[0m \u001b[0;34m*\u001b[0m \u001b[0mlen\u001b[0m\u001b[0;34m(\u001b[0m\u001b[0mopts\u001b[0m\u001b[0;34m)\u001b[0m\u001b[0;34m\u001b[0m\u001b[0;34m\u001b[0m\u001b[0m\n\u001b[1;32m      4\u001b[0m \u001b[0mopt\u001b[0m \u001b[0;34m=\u001b[0m \u001b[0;36m1\u001b[0m\u001b[0;34m\u001b[0m\u001b[0;34m\u001b[0m\u001b[0m\n\u001b[1;32m      5\u001b[0m \u001b[0mst\u001b[0m \u001b[0;34m=\u001b[0m \u001b[0;34m''\u001b[0m\u001b[0;34m\u001b[0m\u001b[0;34m\u001b[0m\u001b[0m\n",
      "\u001b[0;31mNameError\u001b[0m: name 'pr' is not defined"
     ]
    }
   ],
   "source": [
    "opts = dictEntr[pr[0]][(dictEntr[pr[0]].find('=') + 1):-1].split(',')\n",
    "scores = [0] * len(opts)\n",
    "insts = [0] * len(opts)\n",
    "opt = 1\n",
    "st = ''\n",
    "\n",
    "before = dictEntr[pr[0] + 2 + opt*3][(dictEntr[pr[0] + 2 + opt*3].find(':') + 1):-1]\n",
    "after = dictEntr[pr[0] + 3 + opt*3][(dictEntr[pr[0] + 3 + opt*3].find(':') + 1):-1]\n",
    "insts[opt] = before.count('|') + after.count('|')\n",
    "before_log = pr[2][0]\n",
    "after_log = pr[2][1]\n",
    "\n",
    "m = re.search(before, \" \" + pr[2][0], re.I)\n",
    "print(m)"
   ]
  },
  {
   "cell_type": "code",
   "execution_count": 17,
   "metadata": {},
   "outputs": [],
   "source": [
    "manager = multiprocessing.Manager()\n",
    "log_dict = manager.dict({})\n",
    "\n",
    "def makeDecision(pr, n):\n",
    "    opts = dictEntr[pr[0]][(dictEntr[pr[0]].find('=') + 1):-1].split(',')\n",
    "    rand = random.randint(1, n)\n",
    "    if dictEntr[pr[0] + 1][0:2] == '||':\n",
    "        if rand == 1:\n",
    "            log_dict[len(log_dict)] = pr[2][0] + ' _' + opts[0] + '_ ' + pr[2][1] + '\\n'\n",
    "        return opts[0]\n",
    "    scores = [0] * len(opts)\n",
    "    insts = [0] * len(opts)\n",
    "    opt = 0\n",
    "    st = ''\n",
    "    while opt < len(opts):\n",
    "        before = dictEntr[pr[0] + 2 + opt*3][(dictEntr[pr[0] + 2 + opt*3].find(':') + 1):-1]\n",
    "        after = dictEntr[pr[0] + 3 + opt*3][(dictEntr[pr[0] + 3 + opt*3].find(':') + 1):-1]\n",
    "        insts[opt] = before.count('|') + after.count('|')\n",
    "        before_log = pr[2][0]\n",
    "        after_log = pr[2][1]\n",
    "        if len(before) > 0:\n",
    "            for o in re.finditer(before, pr[2][0], re.I):\n",
    "                scores[opt] += (o.end() - o.start()) * max((20 - len(pr[2][0]) + o.end()), 1)^2\n",
    "                if rand == 1:\n",
    "                    before_log = before_log[:o.start()] + before_log[o.start():o.end()].upper() + before_log[o.end():]\n",
    "        if len(after) > 0 :\n",
    "            for o in re.finditer(after, pr[2][1], re.I):\n",
    "                scores[opt] += (o.end() - o.start()) * max(20 - o.start() + 1, 1)^2\n",
    "                if rand == 1:\n",
    "                    after_log = after_log[:o.start()] + after_log[o.start():o.end()].upper() + after_log[o.end():]\n",
    "        if rand == 1:\n",
    "            st += str(scores[opt]) + ': ' + before_log + ' _' + opts[opt] + '_ ' + after_log + '\\n'\n",
    "\n",
    "        opt += 1\n",
    "    if rand == 1:\n",
    "        log_dict[len(log_dict)] = st\n",
    "    maxScore = max(scores)\n",
    "    maxInd = [i for i, j in enumerate(scores) if j == maxScore]\n",
    "    resInd = maxInd[0]\n",
    "    for ind in maxInd[1:]:\n",
    "        if insts[ind] > insts[resInd]:\n",
    "            resInd = ind\n",
    "    return opts[resInd]\n",
    "\n",
    "if __name__ == \"__main__\":\n",
    "    descs = Parallel(n_jobs = num_cores)(delayed(makeDecision)(pr, 25) for pr in allOcs)\n"
   ]
  },
  {
   "cell_type": "code",
   "execution_count": 20,
   "metadata": {},
   "outputs": [
    {
     "data": {
      "text/plain": [
       "[[15147, 4, ['они', 'в организм']],\n",
       " [21573, 46, ['продолжить жизнь без', 'носителя']]]"
      ]
     },
     "execution_count": 20,
     "metadata": {},
     "output_type": "execute_result"
    }
   ],
   "source": [
    "descs\n",
    "allOcs"
   ]
  },
  {
   "cell_type": "code",
   "execution_count": 40,
   "metadata": {},
   "outputs": [],
   "source": [
    "allOcs.sort(key = lambda el: el[1])\n",
    "newText = ''\n",
    "pos = 0\n",
    "\n",
    "for pr in allOcs:\n",
    "    newText += text[pos:pr[1]] + descs[1]\n",
    "    pos = len(newText)\n",
    "newText += text[pos:]"
   ]
  },
  {
   "cell_type": "code",
   "execution_count": 26,
   "metadata": {},
   "outputs": [],
   "source": [
    "pr = allOcs[0]\n",
    "newText += text[0:4] + descs[0]\n",
    "newText\n",
    "pos = len(newText) + 1"
   ]
  },
  {
   "cell_type": "code",
   "execution_count": 39,
   "metadata": {},
   "outputs": [
    {
     "data": {
      "text/plain": [
       "'они попадают в организм…\\nпродолжить жизнь без тела носителя…'"
      ]
     },
     "execution_count": 39,
     "metadata": {},
     "output_type": "execute_result"
    }
   ],
   "source": [
    "text"
   ]
  },
  {
   "cell_type": "code",
   "execution_count": 41,
   "metadata": {},
   "outputs": [
    {
     "data": {
      "text/plain": [
       "'они тЕладают в организм…\\nпродолжить жизнь без тЕла носителя…'"
      ]
     },
     "execution_count": 41,
     "metadata": {},
     "output_type": "execute_result"
    }
   ],
   "source": [
    "newText"
   ]
  },
  {
   "cell_type": "code",
   "execution_count": 60,
   "metadata": {},
   "outputs": [],
   "source": [
    "with open('log.txt', 'w') as out:\n",
    "    for key in log_dict:\n",
    "        out.write(log_dict[key])\n",
    "        out.write('\\n-----------\\n\\n')"
   ]
  },
  {
   "cell_type": "code",
   "execution_count": 2,
   "metadata": {},
   "outputs": [
    {
     "data": {
      "text/plain": [
       "[('громче и громче', 'громче', ' и громче')]"
      ]
     },
     "execution_count": 2,
     "metadata": {},
     "output_type": "execute_result"
    }
   ],
   "source": [
    "text = 'становился все громче и громче…'\n",
    "pattern = r'\\b((\\w+)(:? и \\2)|\\w+ла|\\w+ло|\\w+ет|\\w+ется|\\w+ешь|\\w+ит|\\w+ится|\\w+лось|больше \\w+ли|было|в порядке|вернуть|время|дело|для|еще \\w+ли|еще \\w+лись|еще|же|звонили колокола|знаю|зря|исправить|казалось|лето|неохотно|никак|нормально|понял|порти\\w*|пространство|равно|растрепал\\w*|ревел|сильнее|случайность|смотрел[ао]{1}|так же|такое|утро|хватали и хватали|чего|что|это)\\b'\n",
    "pattern2 = r'(\\bдо\\b =?)(\\w+ей)'\n",
    "re.findall(pattern, text)\n"
   ]
  },
  {
   "cell_type": "code",
   "execution_count": 5,
   "metadata": {},
   "outputs": [
    {
     "data": {
      "text/plain": [
       "'- Третий закон Голпалотта гласит, - началА  Гермиона, - осторожно, там может быть столик. Гласит, что противоядие от составного зелья - не скинь мою книгу, Мерлина ради - не сводится к смеси противоядий - не врежься в камин - от каждого его компонента.'"
      ]
     },
     "execution_count": 5,
     "metadata": {},
     "output_type": "execute_result"
    }
   ],
   "source": [
    "text = '- Третий закон Голпалотта гласит, - начала Гермиона, - осторожно, там может быть столик. Гласит, что противоядие от составного зелья - не скинь мою книгу, Мерлина ради - не сводится к смеси противоядий - не врежься в камин - от каждого его компонента.'\n",
    "pattern = r', - начала(( \\w+){0,3})\\b'\n",
    "re.findall(pattern, text)\n",
    "re.sub(pattern, r', - началА \\g<1>', text)\n",
    "#for o in re.finditer(pattern, text):\n",
    "#    print(o.start())\n",
    "#    print(o.end())"
   ]
  },
  {
   "cell_type": "code",
   "execution_count": 14,
   "metadata": {},
   "outputs": [
    {
     "data": {
      "text/plain": [
       "['правильно. ']"
      ]
     },
     "execution_count": 14,
     "metadata": {},
     "output_type": "execute_result"
    }
   ],
   "source": [
    "text1 = 'правильно и вообще'\n",
    "text2 = 'правильно'\n",
    "text3 = 'правильно. Пошли завтракать'\n",
    "\n",
    "pattern = r'\\bправильно\\. \\b'\n",
    "\n",
    "re.findall(pattern, text3)"
   ]
  }
 ],
 "metadata": {
  "kernelspec": {
   "display_name": "Python 3",
   "language": "python",
   "name": "python3"
  },
  "language_info": {
   "codemirror_mode": {
    "name": "ipython",
    "version": 3
   },
   "file_extension": ".py",
   "mimetype": "text/x-python",
   "name": "python",
   "nbconvert_exporter": "python",
   "pygments_lexer": "ipython3",
   "version": "3.8.5"
  }
 },
 "nbformat": 4,
 "nbformat_minor": 2
}
