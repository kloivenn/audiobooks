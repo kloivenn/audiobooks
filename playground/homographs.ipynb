{
 "cells": [
  {
   "cell_type": "code",
   "execution_count": 17,
   "metadata": {},
   "outputs": [],
   "source": [
    "with open('../dicts/all_omographs_test.hmg', 'r') as f:\n",
    "    lines = list(filter(lambda el: not el[0:2] == '||', f.readlines()))\n",
    "\n",
    "lines = list(map(lambda el: '||' + el, lines))\n",
    "\n",
    "with open('../dicts/all_omographs_test_out.hmg', 'w') as out:\n",
    "    out.write(''.join(lines))"
   ]
  },
  {
   "cell_type": "code",
   "execution_count": 1,
   "metadata": {},
   "outputs": [],
   "source": [
    "import multiprocessing\n",
    "from joblib import Parallel, delayed\n",
    "import re\n",
    "import itertools\n",
    "import time\n",
    "import random\n",
    "\n",
    "num_cores = multiprocessing.cpu_count()"
   ]
  },
  {
   "cell_type": "code",
   "execution_count": 26,
   "metadata": {},
   "outputs": [],
   "source": [
    "with open(\"../dicts/all_omographs_test_out.hmg\", 'r') as f:\n",
    "    dictEntr = list(f.readlines())\n",
    "with open('../text/fanfics.txt', 'r') as f:\n",
    "    text = f.read().replace('\\xa0', ' ')\n",
    "text_unsigned = text.replace('!', '.').replace('?', '.').replace('…', '.').replace('–', '-').replace('—', '-').replace('. -', ', -').replace('ё', 'е').replace('Ё', 'Е')\n"
   ]
  },
  {
   "cell_type": "code",
   "execution_count": 27,
   "metadata": {},
   "outputs": [
    {
     "name": "stdout",
     "output_type": "stream",
     "text": [
      "1759.100555\n"
     ]
    }
   ],
   "source": [
    "\n",
    "def getRegions(start, end):\n",
    "    before = text_unsigned[max((start - 301), text_unsigned.rfind('\\n', 0, start - 1) + 1):(start - 1)]\n",
    "    after = text_unsigned[end:min((end + 301), text_unsigned.find('\\n', end + 1))]\n",
    "    dotFirst = max(before.rfind('.'), 0)\n",
    "    dotLast = after.find('.')\n",
    "    if dotLast == -1:\n",
    "        dotLast = len(after)\n",
    "\n",
    "    while len(before) - dotFirst + dotLast < 40:\n",
    "        dotFirstNext = before.rfind('.', 0, dotFirst)\n",
    "        dotLastNext = after.find('.', dotLast + 1)\n",
    "        if dotLastNext == -1 and dotFirstNext == -1:\n",
    "            break\n",
    "        if dotLastNext == -1:\n",
    "            dotFirst = dotFirstNext\n",
    "        elif dotFirstNext == -1:\n",
    "            dotLast = dotLastNext\n",
    "        elif dotLastNext - dotLast > dotFirst - dotFirstNext:\n",
    "            dotFirst = dotFirstNext\n",
    "        else:\n",
    "            dotLast = dotLastNext\n",
    "            \n",
    "    return [before[dotFirst:], after[1:dotLast]]\n",
    "    \n",
    "    \n",
    "def findOccur(ind, line):\n",
    "    pos = []\n",
    "    if line[0:2] == '||':\n",
    "        word = line[2:line.find(\"=\")]\n",
    "        if text.find(word) != -1:\n",
    "            occur = re.finditer('\\\\b' + word + '\\\\b', text)\n",
    "            pos = list(map(lambda o: [ind, o.start(), getRegions(o.start(), o.end()) ], occur))\n",
    "    return pos\n",
    "t0 = time.clock()\n",
    "if __name__ == \"__main__\":\n",
    "    allOcs = Parallel(n_jobs = num_cores)(delayed(findOccur)(ind, line) for ind, line in enumerate(dictEntr[:-1]))\n",
    "print(time.clock() - t0)\n",
    "allOcs = list(itertools.chain.from_iterable(allOcs))"
   ]
  },
  {
   "cell_type": "code",
   "execution_count": 59,
   "metadata": {},
   "outputs": [
    {
     "name": "stdout",
     "output_type": "stream",
     "text": [
      "2946.9738260000013\n"
     ]
    }
   ],
   "source": [
    "manager = multiprocessing.Manager()\n",
    "log_dict = manager.dict({})\n",
    "\n",
    "def makeDecision(pr, n):\n",
    "    opts = dictEntr[pr[0]][(dictEntr[pr[0]].find('=') + 1):-1].split(',')\n",
    "    rand = random.randint(1, n)\n",
    "    if dictEntr[pr[0] + 1][0:2] == '||':\n",
    "        if rand == 1:\n",
    "            log_dict[len(log_dict)] = pr[2][0] + ' _' + opts[0] + '_ ' + pr[2][1] + '\\n'\n",
    "        return opts[0]\n",
    "    scores = [0] * len(opts)\n",
    "    insts = [0] * len(opts)\n",
    "    opt = 0\n",
    "    st = ''\n",
    "    while opt < len(opts):\n",
    "        before = dictEntr[pr[0] + 2 + opt*3][(dictEntr[pr[0] + 2 + opt*3].find(':') + 1):-1]\n",
    "        after = dictEntr[pr[0] + 3 + opt*3][(dictEntr[pr[0] + 3 + opt*3].find(':') + 1):-1]\n",
    "        insts[opt] = before.count('|') + after.count('|')\n",
    "        before_log = pr[2][0]\n",
    "        after_log = pr[2][1]\n",
    "        if len(before) > 0:\n",
    "            for o in re.finditer(before, pr[2][0], re.I):\n",
    "                scores[opt] += (o.end() - o.start()) * max((20 - len(pr[2][0]) + o.end()), 1)^2\n",
    "                if rand == 1:\n",
    "                    before_log = before_log[:o.start()] + before_log[o.start():o.end()].upper() + before_log[o.end():]\n",
    "        if len(after) > 0 :\n",
    "            for o in re.finditer(after, pr[2][1], re.I):\n",
    "                scores[opt] += (o.end() - o.start()) * max(20 - o.start() + 1, 1)^2\n",
    "                if rand == 1:\n",
    "                    after_log = after_log[:o.start()] + after_log[o.start():o.end()].upper() + after_log[o.end():]\n",
    "        if rand == 1:\n",
    "            st += str(scores[opt]) + ': ' + before_log + ' _' + opts[opt] + '_ ' + after_log + '\\n'\n",
    "\n",
    "        opt += 1\n",
    "    if rand == 1:\n",
    "        log_dict[len(log_dict)] = st\n",
    "    maxScore = max(scores)\n",
    "    maxInd = [i for i, j in enumerate(scores) if j == maxScore]\n",
    "    resInd = maxInd[0]\n",
    "    for ind in maxInd[1:]:\n",
    "        if insts[ind] > insts[resInd]:\n",
    "            resInd = ind\n",
    "    return opts[resInd]\n",
    "t0 = time.clock()\n",
    "if __name__ == \"__main__\":\n",
    "    descs = Parallel(n_jobs = num_cores)(delayed(makeDecision)(pr, 25) for pr in allOcs)\n",
    "print(time.clock() - t0)"
   ]
  },
  {
   "cell_type": "code",
   "execution_count": 60,
   "metadata": {},
   "outputs": [],
   "source": [
    "with open('log.txt', 'w') as out:\n",
    "    for key in log_dict:\n",
    "        out.write(log_dict[key])\n",
    "        out.write('\\n-----------\\n\\n')"
   ]
  }
 ],
 "metadata": {
  "kernelspec": {
   "display_name": "Python 3",
   "language": "python",
   "name": "python3"
  },
  "language_info": {
   "codemirror_mode": {
    "name": "ipython",
    "version": 3
   },
   "file_extension": ".py",
   "mimetype": "text/x-python",
   "name": "python",
   "nbconvert_exporter": "python",
   "pygments_lexer": "ipython3",
   "version": "3.6.9"
  }
 },
 "nbformat": 4,
 "nbformat_minor": 2
}
