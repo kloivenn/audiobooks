{
 "cells": [
  {
   "cell_type": "code",
   "execution_count": 1,
   "metadata": {},
   "outputs": [],
   "source": [
    "with open('../dicts/02_yo_new.txt', 'w') as out:\n",
    "    with open('../dicts/02_yo.txt', 'r') as dic:\n",
    "        line = dic.readline()\n",
    "        while line:\n",
    "            r = line.replace('\\n', '').split('/s/')\n",
    "            if len(r) == 5:\n",
    "                out.write(line)\n",
    "            line = dic.readline()"
   ]
  },
  {
   "cell_type": "code",
   "execution_count": null,
   "metadata": {},
   "outputs": [],
   "source": [
    "           r = allVocs[i].replace('\\n', '').split('/s/')\n",
    "            if len(r) == 4:\n",
    "                r.append(str(1))\n",
    "            else:\n",
    "                r[4] = str(int(r[4]) + 1)\n",
    "            allVocs[i] = '/s/'.join(list(map(str, r))) + '\\n'\n",
    "        with open('dicts/' + d, 'w') as out:\n",
    "            out.write(''.join(allVocs))\n",
    " "
   ]
  }
 ],
 "metadata": {
  "kernelspec": {
   "display_name": "Python 3",
   "language": "python",
   "name": "python3"
  },
  "language_info": {
   "codemirror_mode": {
    "name": "ipython",
    "version": 3
   },
   "file_extension": ".py",
   "mimetype": "text/x-python",
   "name": "python",
   "nbconvert_exporter": "python",
   "pygments_lexer": "ipython3",
   "version": "3.6.9"
  }
 },
 "nbformat": 4,
 "nbformat_minor": 2
}
