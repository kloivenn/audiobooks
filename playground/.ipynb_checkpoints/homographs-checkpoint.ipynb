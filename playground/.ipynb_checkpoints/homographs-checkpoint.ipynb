{
 "cells": [
  {
   "cell_type": "code",
   "execution_count": 17,
   "metadata": {},
   "outputs": [],
   "source": [
    "with open('../dicts/all_omographs_test.hmg', 'r') as f:\n",
    "    lines = list(filter(lambda el: not el[0:2] == '||', f.readlines()))\n",
    "\n",
    "lines = list(map(lambda el: '||' + el, lines))\n",
    "\n",
    "with open('../dicts/all_omographs_test_out.hmg', 'w') as out:\n",
    "    out.write(''.join(lines))"
   ]
  },
  {
   "cell_type": "code",
   "execution_count": 1,
   "metadata": {},
   "outputs": [],
   "source": [
    "import multiprocessing\n",
    "from joblib import Parallel, delayed\n",
    "import re\n",
    "import itertools\n",
    "import time\n",
    "import random\n",
    "\n",
    "num_cores = multiprocessing.cpu_count()"
   ]
  },
  {
   "cell_type": "code",
   "execution_count": 2,
   "metadata": {},
   "outputs": [],
   "source": [
    "with open(\"../dicts/all_omographs.hmg\", 'r') as f:\n",
    "    dictEntr = list(f.readlines())\n",
    "with open('../text/fanfics.txt', 'r') as f:\n",
    "    text = f.read().replace('\\xa0', ' ')\n",
    "text_unsigned = text.replace('!', '.').replace('?', '.').replace('…', '.').replace('–', '-').replace('—', '-').replace('. -', ', -').replace('ё', 'е').replace('Ё', 'Е')\n"
   ]
  },
  {
   "cell_type": "code",
   "execution_count": 3,
   "metadata": {},
   "outputs": [],
   "source": [
    "text = \"в центральном ряду…\"\n",
    "text_unsigned = text.replace('!', '.').replace('?', '.').replace('…', '.').replace('–', '-').replace('—', '-').replace('. -', ', -').replace('ё', 'е').replace('Ё', 'Е')\n"
   ]
  },
  {
   "cell_type": "code",
   "execution_count": 4,
   "metadata": {},
   "outputs": [
    {
     "name": "stdout",
     "output_type": "stream",
     "text": [
      "0.7499070000000001\n"
     ]
    }
   ],
   "source": [
    "\n",
    "def getRegions(start, end):\n",
    "    before = text_unsigned[max((start - 301), text_unsigned.rfind('\\n', 0, start - 1) + 1):(start - 1)]\n",
    "    after = text_unsigned[end:min((end + 301), text_unsigned.find('\\n', end + 1))]\n",
    "    dotFirst = max(before.rfind('.'), 0)\n",
    "    dotLast = after.find('.')\n",
    "    if dotLast == -1:\n",
    "        dotLast = len(after)\n",
    "\n",
    "    while len(before) - dotFirst + dotLast < 40:\n",
    "        dotFirstNext = before.rfind('.', 0, dotFirst)\n",
    "        dotLastNext = after.find('.', dotLast + 1)\n",
    "        if dotLastNext == -1 and dotFirstNext == -1:\n",
    "            break\n",
    "        if dotLastNext == -1:\n",
    "            dotFirst = dotFirstNext\n",
    "        elif dotFirstNext == -1:\n",
    "            dotLast = dotLastNext\n",
    "        elif dotLastNext - dotLast > dotFirst - dotFirstNext:\n",
    "            dotFirst = dotFirstNext\n",
    "        else:\n",
    "            dotLast = dotLastNext\n",
    "            \n",
    "    return [before[dotFirst:], after[1:dotLast]]\n",
    "    \n",
    "    \n",
    "def findOccur(ind, line):\n",
    "    pos = []\n",
    "    if line[0:2] == '||':\n",
    "        word = line[2:line.find(\"=\")]\n",
    "        if text.find(word) != -1:\n",
    "            occur = re.finditer('\\\\b' + word + '\\\\b', text)\n",
    "            pos = list(map(lambda o: [ind, o.start(), getRegions(o.start(), o.end()) ], occur))\n",
    "    return pos\n",
    "t0 = time.clock()\n",
    "if __name__ == \"__main__\":\n",
    "    allOcs = Parallel(n_jobs = num_cores)(delayed(findOccur)(ind, line) for ind, line in enumerate(dictEntr[:-1]))\n",
    "print(time.clock() - t0)\n",
    "allOcs = list(itertools.chain.from_iterable(allOcs))"
   ]
  },
  {
   "cell_type": "code",
   "execution_count": 5,
   "metadata": {},
   "outputs": [
    {
     "data": {
      "text/plain": [
       "[[19648, 14, ['в центральном', '']]]"
      ]
     },
     "execution_count": 5,
     "metadata": {},
     "output_type": "execute_result"
    }
   ],
   "source": [
    "allOcs"
   ]
  },
  {
   "cell_type": "code",
   "execution_count": 22,
   "metadata": {},
   "outputs": [
    {
     "name": "stdout",
     "output_type": "stream",
     "text": [
      "<_sre.SRE_Match object; span=(0, 2), match=' в'>\n"
     ]
    }
   ],
   "source": [
    "opts = dictEntr[pr[0]][(dictEntr[pr[0]].find('=') + 1):-1].split(',')\n",
    "scores = [0] * len(opts)\n",
    "insts = [0] * len(opts)\n",
    "opt = 1\n",
    "st = ''\n",
    "\n",
    "before = dictEntr[pr[0] + 2 + opt*3][(dictEntr[pr[0] + 2 + opt*3].find(':') + 1):-1]\n",
    "after = dictEntr[pr[0] + 3 + opt*3][(dictEntr[pr[0] + 3 + opt*3].find(':') + 1):-1]\n",
    "insts[opt] = before.count('|') + after.count('|')\n",
    "before_log = pr[2][0]\n",
    "after_log = pr[2][1]\n",
    "\n",
    "m = re.search(before, \" \" + pr[2][0], re.I)\n",
    "print(m)"
   ]
  },
  {
   "cell_type": "code",
   "execution_count": 59,
   "metadata": {},
   "outputs": [
    {
     "name": "stdout",
     "output_type": "stream",
     "text": [
      "2946.9738260000013\n"
     ]
    }
   ],
   "source": [
    "manager = multiprocessing.Manager()\n",
    "log_dict = manager.dict({})\n",
    "\n",
    "def makeDecision(pr, n):\n",
    "    opts = dictEntr[pr[0]][(dictEntr[pr[0]].find('=') + 1):-1].split(',')\n",
    "    rand = random.randint(1, n)\n",
    "    if dictEntr[pr[0] + 1][0:2] == '||':\n",
    "        if rand == 1:\n",
    "            log_dict[len(log_dict)] = pr[2][0] + ' _' + opts[0] + '_ ' + pr[2][1] + '\\n'\n",
    "        return opts[0]\n",
    "    scores = [0] * len(opts)\n",
    "    insts = [0] * len(opts)\n",
    "    opt = 0\n",
    "    st = ''\n",
    "    while opt < len(opts):\n",
    "        before = dictEntr[pr[0] + 2 + opt*3][(dictEntr[pr[0] + 2 + opt*3].find(':') + 1):-1]\n",
    "        after = dictEntr[pr[0] + 3 + opt*3][(dictEntr[pr[0] + 3 + opt*3].find(':') + 1):-1]\n",
    "        insts[opt] = before.count('|') + after.count('|')\n",
    "        before_log = pr[2][0]\n",
    "        after_log = pr[2][1]\n",
    "        if len(before) > 0:\n",
    "            for o in re.finditer(before, pr[2][0], re.I):\n",
    "                scores[opt] += (o.end() - o.start()) * max((20 - len(pr[2][0]) + o.end()), 1)^2\n",
    "                if rand == 1:\n",
    "                    before_log = before_log[:o.start()] + before_log[o.start():o.end()].upper() + before_log[o.end():]\n",
    "        if len(after) > 0 :\n",
    "            for o in re.finditer(after, pr[2][1], re.I):\n",
    "                scores[opt] += (o.end() - o.start()) * max(20 - o.start() + 1, 1)^2\n",
    "                if rand == 1:\n",
    "                    after_log = after_log[:o.start()] + after_log[o.start():o.end()].upper() + after_log[o.end():]\n",
    "        if rand == 1:\n",
    "            st += str(scores[opt]) + ': ' + before_log + ' _' + opts[opt] + '_ ' + after_log + '\\n'\n",
    "\n",
    "        opt += 1\n",
    "    if rand == 1:\n",
    "        log_dict[len(log_dict)] = st\n",
    "    maxScore = max(scores)\n",
    "    maxInd = [i for i, j in enumerate(scores) if j == maxScore]\n",
    "    resInd = maxInd[0]\n",
    "    for ind in maxInd[1:]:\n",
    "        if insts[ind] > insts[resInd]:\n",
    "            resInd = ind\n",
    "    return opts[resInd]\n",
    "t0 = time.clock()\n",
    "if __name__ == \"__main__\":\n",
    "    descs = Parallel(n_jobs = num_cores)(delayed(makeDecision)(pr, 25) for pr in allOcs)\n",
    "print(time.clock() - t0)"
   ]
  },
  {
   "cell_type": "code",
   "execution_count": 60,
   "metadata": {},
   "outputs": [],
   "source": [
    "with open('log.txt', 'w') as out:\n",
    "    for key in log_dict:\n",
    "        out.write(log_dict[key])\n",
    "        out.write('\\n-----------\\n\\n')"
   ]
  },
  {
   "cell_type": "code",
   "execution_count": 2,
   "metadata": {},
   "outputs": [
    {
     "data": {
      "text/plain": [
       "[('громче и громче', 'громче', ' и громче')]"
      ]
     },
     "execution_count": 2,
     "metadata": {},
     "output_type": "execute_result"
    }
   ],
   "source": [
    "text = 'становился все громче и громче…'\n",
    "pattern = r'\\b((\\w+)(:? и \\2)|\\w+ла|\\w+ло|\\w+ет|\\w+ется|\\w+ешь|\\w+ит|\\w+ится|\\w+лось|больше \\w+ли|было|в порядке|вернуть|время|дело|для|еще \\w+ли|еще \\w+лись|еще|же|звонили колокола|знаю|зря|исправить|казалось|лето|неохотно|никак|нормально|понял|порти\\w*|пространство|равно|растрепал\\w*|ревел|сильнее|случайность|смотрел[ао]{1}|так же|такое|утро|хватали и хватали|чего|что|это)\\b'\n",
    "pattern2 = r'(\\bдо\\b =?)(\\w+ей)'\n",
    "re.findall(pattern, text)\n"
   ]
  },
  {
   "cell_type": "code",
   "execution_count": 5,
   "metadata": {},
   "outputs": [
    {
     "data": {
      "text/plain": [
       "'- Третий закон Голпалотта гласит, - началА  Гермиона, - осторожно, там может быть столик. Гласит, что противоядие от составного зелья - не скинь мою книгу, Мерлина ради - не сводится к смеси противоядий - не врежься в камин - от каждого его компонента.'"
      ]
     },
     "execution_count": 5,
     "metadata": {},
     "output_type": "execute_result"
    }
   ],
   "source": [
    "text = '- Третий закон Голпалотта гласит, - начала Гермиона, - осторожно, там может быть столик. Гласит, что противоядие от составного зелья - не скинь мою книгу, Мерлина ради - не сводится к смеси противоядий - не врежься в камин - от каждого его компонента.'\n",
    "pattern = r', - начала(( \\w+){0,3})\\b'\n",
    "re.findall(pattern, text)\n",
    "re.sub(pattern, r', - началА \\g<1>', text)\n",
    "#for o in re.finditer(pattern, text):\n",
    "#    print(o.start())\n",
    "#    print(o.end())"
   ]
  }
 ],
 "metadata": {
  "kernelspec": {
   "display_name": "Python 3",
   "language": "python",
   "name": "python3"
  },
  "language_info": {
   "codemirror_mode": {
    "name": "ipython",
    "version": 3
   },
   "file_extension": ".py",
   "mimetype": "text/x-python",
   "name": "python",
   "nbconvert_exporter": "python",
   "pygments_lexer": "ipython3",
   "version": "3.8.5"
  }
 },
 "nbformat": 4,
 "nbformat_minor": 2
}
