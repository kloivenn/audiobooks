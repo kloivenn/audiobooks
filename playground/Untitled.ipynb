{
 "cells": [
  {
   "cell_type": "code",
   "execution_count": 16,
   "metadata": {},
   "outputs": [],
   "source": [
    "import re\n",
    "import ast"
   ]
  },
  {
   "cell_type": "code",
   "execution_count": 20,
   "metadata": {},
   "outputs": [
    {
     "data": {
      "text/plain": [
       "'\\ufeffв разгар лета ночные грозы в Сарантии случались часто...\\nблагодарите бога, что ночью не было грозы...\\nтаких же, как он, еретиков...\\nтой священной земли...\\nвызвала так много толков...\\nв стенах города...\\nвынесенных на берег моря...\\nпольщенным...\\nдля себя самого...\\nснова увидел цвета разных факций...\\nу выходящего в сад окна...\\nотмечали дома состоятельных граждан...\\nудостоились сомнительной чести...\\nфермы и поля повсюду стояли заброшенные...\\nчто все это не имеет значения...\\nно его запах не имел цвета...\\nзапах и вкус муки...\\nна краю поля его зрения...\\nс самой сильной в жизни головной болью...\\nкоторой поздней осенью выходит...\\nпосоху...\\nчеловечину под видом колбасы...\\nон любил стены своего города...\\nлюбых других дорог к могуществу...\\nварево из крови повешенного вора...\\nпроизошло совершенно неожиданно и пугало...\\nобе почти полные луны...\\nна далекие деревья леса...\\nна краю леса...\\nветвистых...\\nмежду древней дорогой родиан на Тракезию и южной опушкой...\\nкогда развернули листы стекла...\\nгрязно-коричневый...\\nпросто не могли отвергнуть их все...\\nвихрящемся...\\nперестал дрожать и стоит совершенно спокойно...\\nжестокости не было места здесь...\\nлес пугал его даже издали...\\nзанимающая всю длину и высоту стены...\\nее ступня коснулась его ноги...\\nотвел в сторону от ее щеки...\\nобразца его красной мочи...\\nколесницам...\\nрыжебородому...\\nосвещает купола и башни...\\nв знак начала гонок...\\nсандалового...\\nэто вопрос чести...\\nвозниц...\\nесли им хватит места...\\nна покупку пристойного оберега...\\nамфоры...\\nнадушенные...\\nприструнить...\\nсопровождать повара на базар...\\nпод ногами разверзлась пропасть...\\nне проливая королевской крови...\\nвсе еще звонили колокола...\\nтем не менее слова, которые она услышала...\\nнепринужденная смена тона...\\nвыражение ее лица снова стало холодным...\\nтак поступают почти все солдаты...\\nвыбросил отправленные с тобой письма...\\nнежных полутонов...'"
      ]
     },
     "execution_count": 20,
     "metadata": {},
     "output_type": "execute_result"
    }
   ],
   "source": [
    "with open('01_start.txt', 'r') as file:\n",
    "    data = file.read()\n",
    "    \n",
    "data"
   ]
  },
  {
   "cell_type": "code",
   "execution_count": 25,
   "metadata": {},
   "outputs": [
    {
     "data": {
      "text/plain": [
       "[['\\\\bберег моря\\\\b', 'бЕрег мОря', 'b', '0'],\n",
       " ['\\\\bгрозы\\\\b', 'грозЫ', 'b', '0'],\n",
       " ['\\\\bночь', 'НОЧЬ', 'l', '1'],\n",
       " ['ога\\\\b', 'ОГА', 'r', '1'],\n",
       " ['(\\\\w+([авея]ни[еийюя]|тви[еию]|ейся|елем|ики|ишка|нник|(в|д|к|л|м|н|т)ой|ой|ни(и|й|ям)|ост(и|ь)|ров|сах|сил(а|е|ой|у|ы)|сков|ства|тел(и|ь|я)|ци(и|й)|(и|ч|ш|щ|ь)ей|\\\\Bей)\\\\b\\\\s?(\\\\w+)?)\\\\s{1,4}(\\\\bземли\\\\b)',\n",
       "  '\\\\1 землИ',\n",
       "  'n',\n",
       "  '0']]"
      ]
     },
     "execution_count": 25,
     "metadata": {},
     "output_type": "execute_result"
    }
   ],
   "source": [
    "with open(\"dict_example.txt\", \"r\") as file:\n",
    "    dic = file.readlines()\n",
    "    \n",
    "repl = list(map(lambda el: el.replace('\\n', '').split('/s/'), dic))\n",
    "for r in repl:\n",
    "    if r[2] == 'b':\n",
    "        r[0] = '\\\\b' + r[0] + '\\\\b'\n",
    "    if r[2] == 'r':\n",
    "        r[0] = r[0] + '\\\\b'\n",
    "    if r[2] == 'l':\n",
    "        r[0] = '\\\\b' + r[0]\n",
    "        \n",
    "repl"
   ]
  },
  {
   "cell_type": "code",
   "execution_count": 26,
   "metadata": {},
   "outputs": [
    {
     "data": {
      "text/plain": [
       "'\\ufeffв разгар лета ночные грозЫ в Сарантии случались часто...\\nблагодарите бОГА, что НОЧЬю не было грозЫ...\\nтаких же, как он, еретиков...\\nтой священной землИ...\\nвызвала так много толков...\\nв стенах города...\\nвынесенных на бЕрег мОря...\\nпольщенным...\\nдля себя самого...\\nснова увидел цвета разных факций...\\nу выходящего в сад окна...\\nотмечали дома состоятельных граждан...\\nудостоились сомнительной чести...\\nфермы и поля повсюду стояли заброшенные...\\nчто все это не имеет значения...\\nно его запах не имел цвета...\\nзапах и вкус муки...\\nна краю поля его зрения...\\nс самой сильной в жизни головной болью...\\nкоторой поздней осенью выходит...\\nпосоху...\\nчеловечину под видом колбасы...\\nон любил стены своего города...\\nлюбых других дорог к могуществу...\\nварево из крови повешенного вора...\\nпроизошло совершенно неожиданно и пугало...\\nобе почти полные луны...\\nна далекие деревья леса...\\nна краю леса...\\nветвистых...\\nмежду древней дорогой родиан на Тракезию и южной опушкой...\\nкогда развернули листы стекла...\\nгрязно-коричневый...\\nпросто не могли отвергнуть их все...\\nвихрящемся...\\nперестал дрожать и стоит совершенно спокойно...\\nжестокости не было места здесь...\\nлес пугал его даже издали...\\nзанимающая всю длину и высоту стены...\\nее ступня коснулась его ноги...\\nотвел в сторону от ее щеки...\\nобразца его красной мочи...\\nколесницам...\\nрыжебородому...\\nосвещает купола и башни...\\nв знак начала гонок...\\nсандалового...\\nэто вопрос чести...\\nвозниц...\\nесли им хватит места...\\nна покупку пристойного оберега...\\nамфоры...\\nнадушенные...\\nприструнить...\\nсопровождать повара на базар...\\nпод ногами разверзлась пропасть...\\nне проливая королевской крови...\\nвсе еще звонили колокола...\\nтем не менее слова, которые она услышала...\\nнепринужденная смена тона...\\nвыражение ее лица снова стало холодным...\\nтак поступают почти все солдаты...\\nвыбросил отправленные с тобой письма...\\nнежных полутонов...'"
      ]
     },
     "execution_count": 26,
     "metadata": {},
     "output_type": "execute_result"
    }
   ],
   "source": [
    "newData = data\n",
    "\n",
    "for r in repl:\n",
    "    if int(r[3]) == 0:\n",
    "        fl = re.IGNORECASE\n",
    "    else:\n",
    "        fl = 0\n",
    "    newData = re.sub(r[0], r[1], newData, flags = fl)\n",
    "    \n",
    "newData"
   ]
  },
  {
   "cell_type": "code",
   "execution_count": 19,
   "metadata": {},
   "outputs": [],
   "source": [
    "skip = 3\n",
    "with open('new_dic.txt', 'w') as out:\n",
    "    with open('../dicts_balabolka/1.1. corector.bxd', 'r') as dic:\n",
    "        line = dic.readline()\n",
    "        while line:\n",
    "            if skip == 2:\n",
    "                m = re.match('Delimiter=(.)', line)\n",
    "                dmt = m.group(1)\n",
    "            if skip <= 0:\n",
    "                voc = line.replace('\\n', '').split(dmt)\n",
    "                if int(voc[4]) == 1:\n",
    "                    voc[8] = re.sub(r'\\$(\\d+)', r'\\\\g<\\1>', voc[8])\n",
    "                newLine = voc[7] + '/' + voc[8] + '/'\n",
    "                if int(voc[5]) == 0:\n",
    "                    newLine += 'b/'\n",
    "                if int(voc[5]) == 1:\n",
    "                    newLine += 'l/'\n",
    "                if int(voc[5]) == 2:\n",
    "                    newLine += 'r/'\n",
    "                if int(voc[5]) == 3:\n",
    "                    newLine += 'n/'\n",
    "                newLine += voc[3] + '\\n'\n",
    "                out.write(newLine)\n",
    "                if int(voc[6] == 1):\n",
    "                    print(skip)\n",
    "            skip -= 1\n",
    "            line = dic.readline()\n",
    "dic.close()\n",
    "out.close()"
   ]
  },
  {
   "cell_type": "code",
   "execution_count": 30,
   "metadata": {},
   "outputs": [
    {
     "ename": "SyntaxError",
     "evalue": "(unicode error) 'unicodeescape' codec can't decode bytes in position 2-3: truncated \\xXX escape (<ipython-input-30-7176e7d2ec97>, line 2)",
     "output_type": "error",
     "traceback": [
      "\u001b[0;36m  File \u001b[0;32m\"<ipython-input-30-7176e7d2ec97>\"\u001b[0;36m, line \u001b[0;32m2\u001b[0m\n\u001b[0;31m    re.sub(r'\\)', '\\)\\x{00a2}', str)\u001b[0m\n\u001b[0m                 ^\u001b[0m\n\u001b[0;31mSyntaxError\u001b[0m\u001b[0;31m:\u001b[0m (unicode error) 'unicodeescape' codec can't decode bytes in position 2-3: truncated \\xXX escape\n"
     ]
    }
   ],
   "source": [
    "str = '([^\\x2D])([А-яЁё])(\\x2D\\2){2,}([^\\x2D])/$1$2$4/b/0'\n",
    "re.sub(r'\\$(\\d+)', r'\\\\g<\\1>', str)"
   ]
  },
  {
   "cell_type": "code",
   "execution_count": 13,
   "metadata": {},
   "outputs": [
    {
     "data": {
      "text/plain": [
       "'Очередной урок профЕссора Флитвика'"
      ]
     },
     "execution_count": 13,
     "metadata": {},
     "output_type": "execute_result"
    }
   ],
   "source": [
    "r = r'(\\b([Уу]рок)\\b)\\s{1,4}(\\bпрофессор[Аа]\\b)\\s{1,4}([А-ЯЁ]\\w+\\b)/s/\\g<1> профЕссора \\g<4>/s/n/s/1'\n",
    "r = r.split('/s/')\n",
    "if r[2] == 'b':\n",
    "    r[0] = '\\\\b' + r[0] + '\\\\b'\n",
    "if r[2] == 'r':\n",
    "    r[0] = r[0] + '\\\\b'\n",
    "if r[2] == 'l':\n",
    "    r[0] = '\\\\b' + r[0]\n",
    "if int(r[3]) == 0:\n",
    "    fl = re.IGNORECASE\n",
    "else:\n",
    "    fl = 0\n",
    "\n",
    "testStr = 'Очередной урок профессорА Флитвика'\n",
    "re.sub(r[0], r[1], testStr, flags = fl)\n"
   ]
  },
  {
   "cell_type": "code",
   "execution_count": 13,
   "metadata": {},
   "outputs": [
    {
     "data": {
      "text/plain": [
       "False"
      ]
     },
     "execution_count": 13,
     "metadata": {},
     "output_type": "execute_result"
    }
   ],
   "source": [
    "r[3] = int(r[3])\n",
    "m = re.match(r'\\w', r[0][0])\n",
    "a = 1\n",
    "(not m) & (a != 1)\n"
   ]
  },
  {
   "cell_type": "code",
   "execution_count": 15,
   "metadata": {},
   "outputs": [
    {
     "data": {
      "text/plain": [
       "['свечи\\\\sотбрасывали', 'свЕчи отбрасывали', 'n', '0']"
      ]
     },
     "execution_count": 15,
     "metadata": {},
     "output_type": "execute_result"
    }
   ],
   "source": [
    "r\n"
   ]
  },
  {
   "cell_type": "code",
   "execution_count": 43,
   "metadata": {},
   "outputs": [
    {
     "ename": "NameError",
     "evalue": "name 'length' is not defined",
     "output_type": "error",
     "traceback": [
      "\u001b[0;31m---------------------------------------------------------------------------\u001b[0m",
      "\u001b[0;31mNameError\u001b[0m                                 Traceback (most recent call last)",
      "\u001b[0;32m<ipython-input-43-621e6860d8fb>\u001b[0m in \u001b[0;36m<module>\u001b[0;34m\u001b[0m\n\u001b[0;32m----> 1\u001b[0;31m \u001b[0mlength\u001b[0m\u001b[0;34m(\u001b[0m\u001b[0mr\u001b[0m\u001b[0;34m)\u001b[0m\u001b[0;34m\u001b[0m\u001b[0;34m\u001b[0m\u001b[0m\n\u001b[0m",
      "\u001b[0;31mNameError\u001b[0m: name 'length' is not defined"
     ]
    }
   ],
   "source": [
    "length(r)"
   ]
  },
  {
   "cell_type": "code",
   "execution_count": 3,
   "metadata": {},
   "outputs": [
    {
     "data": {
      "text/plain": [
       "57572"
      ]
     },
     "execution_count": 3,
     "metadata": {},
     "output_type": "execute_result"
    }
   ],
   "source": [
    "d = \"pron.dic\"\n",
    "with open('../dicts/' + d, 'r') as dic:\n",
    "    allVocs = dic.readlines()\n",
    "    \n",
    "len(allVocs)"
   ]
  },
  {
   "cell_type": "code",
   "execution_count": 8,
   "metadata": {},
   "outputs": [
    {
     "data": {
      "text/plain": [
       "'отгрызали=<phoneme alphabet=\"x-sampa\" ph=\\'6tgrI\\\\z\"al_ji\\'/>\\n'"
      ]
     },
     "execution_count": 8,
     "metadata": {},
     "output_type": "execute_result"
    }
   ],
   "source": [
    "line = allVocs[57465]\n",
    "text = \"какой-то текст, они что-то там отгрызали и были щасливы\"\n",
    "line"
   ]
  },
  {
   "cell_type": "code",
   "execution_count": 19,
   "metadata": {},
   "outputs": [
    {
     "name": "stdout",
     "output_type": "stream",
     "text": [
      "какой-то текст, они что-то там <phoneme alphabet=\"x-sampa\" ph='6tgrI\\z\"al_ji'/> и были щасливы\n"
     ]
    }
   ],
   "source": [
    "flag = re.IGNORECASE\n",
    "word = '\\\\b' + line[0:line.find('=')] + '\\\\b'\n",
    "newWord = line[line.find('=') + 1:].strip().replace('\\\\', '\\\\\\\\')\n",
    "newLine = re.sub(word, newWord, text, flags = flag)\n",
    "print(newLine)"
   ]
  },
  {
   "cell_type": "code",
   "execution_count": 11,
   "metadata": {},
   "outputs": [
    {
     "name": "stdout",
     "output_type": "stream",
     "text": [
      "<phoneme alphabet=\"x-sampa\" ph='6tgrI\\z\"al_ji'/>\n"
     ]
    }
   ],
   "source": [
    "print(newWord)"
   ]
  },
  {
   "cell_type": "code",
   "execution_count": 23,
   "metadata": {},
   "outputs": [
    {
     "name": "stdout",
     "output_type": "stream",
     "text": [
      "-4.7e-05\n"
     ]
    }
   ],
   "source": [
    "import datetime\n",
    "\n",
    "t1 = datetime.datetime.now()\n",
    "t2 = datetime.datetime.now()\n",
    "print((t1 - t2).total_seconds())"
   ]
  },
  {
   "cell_type": "code",
   "execution_count": null,
   "metadata": {},
   "outputs": [],
   "source": []
  }
 ],
 "metadata": {
  "kernelspec": {
   "display_name": "Python 3",
   "language": "python",
   "name": "python3"
  },
  "language_info": {
   "codemirror_mode": {
    "name": "ipython",
    "version": 3
   },
   "file_extension": ".py",
   "mimetype": "text/x-python",
   "name": "python",
   "nbconvert_exporter": "python",
   "pygments_lexer": "ipython3",
   "version": "3.8.5"
  }
 },
 "nbformat": 4,
 "nbformat_minor": 2
}
